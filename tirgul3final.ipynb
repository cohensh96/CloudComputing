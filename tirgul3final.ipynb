{
  "nbformat": 4,
  "nbformat_minor": 0,
  "metadata": {
    "colab": {
      "provenance": [],
      "authorship_tag": "ABX9TyNkd4lxBY5RKOVQBk0AFxas",
      "include_colab_link": true
    },
    "kernelspec": {
      "name": "python3",
      "display_name": "Python 3"
    },
    "language_info": {
      "name": "python"
    },
    "widgets": {
      "application/vnd.jupyter.widget-state+json": {
        "4c7a227002fe437cab988fba7f2e10a6": {
          "model_module": "@jupyter-widgets/controls",
          "model_name": "HTMLModel",
          "model_module_version": "1.5.0",
          "state": {
            "_dom_classes": [
              "css-headline"
            ],
            "_model_module": "@jupyter-widgets/controls",
            "_model_module_version": "1.5.0",
            "_model_name": "HTMLModel",
            "_view_count": null,
            "_view_module": "@jupyter-widgets/controls",
            "_view_module_version": "1.5.0",
            "_view_name": "HTMLView",
            "description": "",
            "description_tooltip": null,
            "layout": "IPY_MODEL_5700f0050eb3496782a4b628b5d274d7",
            "placeholder": "​",
            "style": "IPY_MODEL_74b6087141724877a62c667b5df8ecab",
            "value": "<h2>Select a Student:</h2>"
          }
        },
        "5700f0050eb3496782a4b628b5d274d7": {
          "model_module": "@jupyter-widgets/base",
          "model_name": "LayoutModel",
          "model_module_version": "1.2.0",
          "state": {
            "_model_module": "@jupyter-widgets/base",
            "_model_module_version": "1.2.0",
            "_model_name": "LayoutModel",
            "_view_count": null,
            "_view_module": "@jupyter-widgets/base",
            "_view_module_version": "1.2.0",
            "_view_name": "LayoutView",
            "align_content": null,
            "align_items": null,
            "align_self": null,
            "border": null,
            "bottom": null,
            "display": null,
            "flex": null,
            "flex_flow": null,
            "grid_area": null,
            "grid_auto_columns": null,
            "grid_auto_flow": null,
            "grid_auto_rows": null,
            "grid_column": null,
            "grid_gap": null,
            "grid_row": null,
            "grid_template_areas": null,
            "grid_template_columns": null,
            "grid_template_rows": null,
            "height": null,
            "justify_content": null,
            "justify_items": null,
            "left": null,
            "margin": null,
            "max_height": null,
            "max_width": null,
            "min_height": null,
            "min_width": null,
            "object_fit": null,
            "object_position": null,
            "order": null,
            "overflow": null,
            "overflow_x": null,
            "overflow_y": null,
            "padding": null,
            "right": null,
            "top": null,
            "visibility": null,
            "width": null
          }
        },
        "74b6087141724877a62c667b5df8ecab": {
          "model_module": "@jupyter-widgets/controls",
          "model_name": "DescriptionStyleModel",
          "model_module_version": "1.5.0",
          "state": {
            "_model_module": "@jupyter-widgets/controls",
            "_model_module_version": "1.5.0",
            "_model_name": "DescriptionStyleModel",
            "_view_count": null,
            "_view_module": "@jupyter-widgets/base",
            "_view_module_version": "1.2.0",
            "_view_name": "StyleView",
            "description_width": ""
          }
        },
        "da06eaaf0a394f8bbb2bc739549fbcc1": {
          "model_module": "@jupyter-widgets/controls",
          "model_name": "DropdownModel",
          "model_module_version": "1.5.0",
          "state": {
            "_dom_classes": [
              "custom-text-widget"
            ],
            "_model_module": "@jupyter-widgets/controls",
            "_model_module_version": "1.5.0",
            "_model_name": "DropdownModel",
            "_options_labels": [
              "None",
              "Shir",
              "David",
              "Gal",
              "Eldad",
              "Yotam"
            ],
            "_view_count": null,
            "_view_module": "@jupyter-widgets/controls",
            "_view_module_version": "1.5.0",
            "_view_name": "DropdownView",
            "description": "First Name:",
            "description_tooltip": null,
            "disabled": false,
            "index": 3,
            "layout": "IPY_MODEL_ee4e75a125e74861ba25da9d97ce2349",
            "style": "IPY_MODEL_3e28cc1ac917420b9cdce31f4bd42004"
          }
        },
        "ee4e75a125e74861ba25da9d97ce2349": {
          "model_module": "@jupyter-widgets/base",
          "model_name": "LayoutModel",
          "model_module_version": "1.2.0",
          "state": {
            "_model_module": "@jupyter-widgets/base",
            "_model_module_version": "1.2.0",
            "_model_name": "LayoutModel",
            "_view_count": null,
            "_view_module": "@jupyter-widgets/base",
            "_view_module_version": "1.2.0",
            "_view_name": "LayoutView",
            "align_content": null,
            "align_items": null,
            "align_self": null,
            "border": null,
            "bottom": null,
            "display": null,
            "flex": null,
            "flex_flow": null,
            "grid_area": null,
            "grid_auto_columns": null,
            "grid_auto_flow": null,
            "grid_auto_rows": null,
            "grid_column": null,
            "grid_gap": null,
            "grid_row": null,
            "grid_template_areas": null,
            "grid_template_columns": null,
            "grid_template_rows": null,
            "height": null,
            "justify_content": null,
            "justify_items": null,
            "left": null,
            "margin": null,
            "max_height": null,
            "max_width": null,
            "min_height": null,
            "min_width": null,
            "object_fit": null,
            "object_position": null,
            "order": null,
            "overflow": null,
            "overflow_x": null,
            "overflow_y": null,
            "padding": null,
            "right": null,
            "top": null,
            "visibility": null,
            "width": "max-content"
          }
        },
        "3e28cc1ac917420b9cdce31f4bd42004": {
          "model_module": "@jupyter-widgets/controls",
          "model_name": "DescriptionStyleModel",
          "model_module_version": "1.5.0",
          "state": {
            "_model_module": "@jupyter-widgets/controls",
            "_model_module_version": "1.5.0",
            "_model_name": "DescriptionStyleModel",
            "_view_count": null,
            "_view_module": "@jupyter-widgets/base",
            "_view_module_version": "1.2.0",
            "_view_name": "StyleView",
            "description_width": "initial"
          }
        },
        "ed9de300e7624a22856533e9a4c0b084": {
          "model_module": "@jupyter-widgets/controls",
          "model_name": "TextModel",
          "model_module_version": "1.5.0",
          "state": {
            "_dom_classes": [
              "custom-text-widget"
            ],
            "_model_module": "@jupyter-widgets/controls",
            "_model_module_version": "1.5.0",
            "_model_name": "TextModel",
            "_view_count": null,
            "_view_module": "@jupyter-widgets/controls",
            "_view_module_version": "1.5.0",
            "_view_name": "TextView",
            "continuous_update": true,
            "description": "Last Name:",
            "description_tooltip": null,
            "disabled": true,
            "layout": "IPY_MODEL_d1da069badfa437c9b8f8ffa346a1390",
            "placeholder": "Last name",
            "style": "IPY_MODEL_488c5b9ba6ab4b93ad272cc016166bc5",
            "value": "Farfel"
          }
        },
        "d1da069badfa437c9b8f8ffa346a1390": {
          "model_module": "@jupyter-widgets/base",
          "model_name": "LayoutModel",
          "model_module_version": "1.2.0",
          "state": {
            "_model_module": "@jupyter-widgets/base",
            "_model_module_version": "1.2.0",
            "_model_name": "LayoutModel",
            "_view_count": null,
            "_view_module": "@jupyter-widgets/base",
            "_view_module_version": "1.2.0",
            "_view_name": "LayoutView",
            "align_content": null,
            "align_items": null,
            "align_self": null,
            "border": null,
            "bottom": null,
            "display": null,
            "flex": null,
            "flex_flow": null,
            "grid_area": null,
            "grid_auto_columns": null,
            "grid_auto_flow": null,
            "grid_auto_rows": null,
            "grid_column": null,
            "grid_gap": null,
            "grid_row": null,
            "grid_template_areas": null,
            "grid_template_columns": null,
            "grid_template_rows": null,
            "height": null,
            "justify_content": null,
            "justify_items": null,
            "left": null,
            "margin": null,
            "max_height": null,
            "max_width": null,
            "min_height": null,
            "min_width": null,
            "object_fit": null,
            "object_position": null,
            "order": null,
            "overflow": null,
            "overflow_x": null,
            "overflow_y": null,
            "padding": null,
            "right": null,
            "top": null,
            "visibility": null,
            "width": null
          }
        },
        "488c5b9ba6ab4b93ad272cc016166bc5": {
          "model_module": "@jupyter-widgets/controls",
          "model_name": "DescriptionStyleModel",
          "model_module_version": "1.5.0",
          "state": {
            "_model_module": "@jupyter-widgets/controls",
            "_model_module_version": "1.5.0",
            "_model_name": "DescriptionStyleModel",
            "_view_count": null,
            "_view_module": "@jupyter-widgets/base",
            "_view_module_version": "1.2.0",
            "_view_name": "StyleView",
            "description_width": "initial"
          }
        },
        "dc92e9fd628d4399a6de6e580e381c08": {
          "model_module": "@jupyter-widgets/controls",
          "model_name": "TextModel",
          "model_module_version": "1.5.0",
          "state": {
            "_dom_classes": [
              "custom-text-widget"
            ],
            "_model_module": "@jupyter-widgets/controls",
            "_model_module_version": "1.5.0",
            "_model_name": "TextModel",
            "_view_count": null,
            "_view_module": "@jupyter-widgets/controls",
            "_view_module_version": "1.5.0",
            "_view_name": "TextView",
            "continuous_update": true,
            "description": "Email:",
            "description_tooltip": null,
            "disabled": true,
            "layout": "IPY_MODEL_6cdb591df7d14668baeb33b519c5e619",
            "placeholder": "Email",
            "style": "IPY_MODEL_5190bafb10c54060893296cae23cf6dd",
            "value": "gal@example.com"
          }
        },
        "6cdb591df7d14668baeb33b519c5e619": {
          "model_module": "@jupyter-widgets/base",
          "model_name": "LayoutModel",
          "model_module_version": "1.2.0",
          "state": {
            "_model_module": "@jupyter-widgets/base",
            "_model_module_version": "1.2.0",
            "_model_name": "LayoutModel",
            "_view_count": null,
            "_view_module": "@jupyter-widgets/base",
            "_view_module_version": "1.2.0",
            "_view_name": "LayoutView",
            "align_content": null,
            "align_items": null,
            "align_self": null,
            "border": null,
            "bottom": null,
            "display": null,
            "flex": null,
            "flex_flow": null,
            "grid_area": null,
            "grid_auto_columns": null,
            "grid_auto_flow": null,
            "grid_auto_rows": null,
            "grid_column": null,
            "grid_gap": null,
            "grid_row": null,
            "grid_template_areas": null,
            "grid_template_columns": null,
            "grid_template_rows": null,
            "height": null,
            "justify_content": null,
            "justify_items": null,
            "left": null,
            "margin": null,
            "max_height": null,
            "max_width": null,
            "min_height": null,
            "min_width": null,
            "object_fit": null,
            "object_position": null,
            "order": null,
            "overflow": null,
            "overflow_x": null,
            "overflow_y": null,
            "padding": null,
            "right": null,
            "top": null,
            "visibility": null,
            "width": "350px"
          }
        },
        "5190bafb10c54060893296cae23cf6dd": {
          "model_module": "@jupyter-widgets/controls",
          "model_name": "DescriptionStyleModel",
          "model_module_version": "1.5.0",
          "state": {
            "_model_module": "@jupyter-widgets/controls",
            "_model_module_version": "1.5.0",
            "_model_name": "DescriptionStyleModel",
            "_view_count": null,
            "_view_module": "@jupyter-widgets/base",
            "_view_module_version": "1.2.0",
            "_view_name": "StyleView",
            "description_width": "initial"
          }
        },
        "8422ae89c02f407b9a9ce1369d73a3a1": {
          "model_module": "@jupyter-widgets/controls",
          "model_name": "ComboboxModel",
          "model_module_version": "1.5.0",
          "state": {
            "_dom_classes": [
              "custom-text-widget"
            ],
            "_model_module": "@jupyter-widgets/controls",
            "_model_module_version": "1.5.0",
            "_model_name": "ComboboxModel",
            "_view_count": null,
            "_view_module": "@jupyter-widgets/controls",
            "_view_module_version": "1.5.0",
            "_view_name": "ComboboxView",
            "continuous_update": true,
            "description": "Course:",
            "description_tooltip": null,
            "disabled": false,
            "ensure_option": true,
            "layout": "IPY_MODEL_87db89ac17914dbda5a00f6413cc42d9",
            "options": [
              "Computer Science",
              "Music"
            ],
            "placeholder": "Please choose your favorite course",
            "style": "IPY_MODEL_28ff698708a64e8d9a224d606e7ce825",
            "value": "Music"
          }
        },
        "87db89ac17914dbda5a00f6413cc42d9": {
          "model_module": "@jupyter-widgets/base",
          "model_name": "LayoutModel",
          "model_module_version": "1.2.0",
          "state": {
            "_model_module": "@jupyter-widgets/base",
            "_model_module_version": "1.2.0",
            "_model_name": "LayoutModel",
            "_view_count": null,
            "_view_module": "@jupyter-widgets/base",
            "_view_module_version": "1.2.0",
            "_view_name": "LayoutView",
            "align_content": null,
            "align_items": null,
            "align_self": null,
            "border": null,
            "bottom": null,
            "display": null,
            "flex": null,
            "flex_flow": null,
            "grid_area": null,
            "grid_auto_columns": null,
            "grid_auto_flow": null,
            "grid_auto_rows": null,
            "grid_column": null,
            "grid_gap": null,
            "grid_row": null,
            "grid_template_areas": null,
            "grid_template_columns": null,
            "grid_template_rows": null,
            "height": null,
            "justify_content": null,
            "justify_items": null,
            "left": null,
            "margin": null,
            "max_height": null,
            "max_width": null,
            "min_height": null,
            "min_width": null,
            "object_fit": null,
            "object_position": null,
            "order": null,
            "overflow": null,
            "overflow_x": null,
            "overflow_y": null,
            "padding": null,
            "right": null,
            "top": null,
            "visibility": null,
            "width": null
          }
        },
        "28ff698708a64e8d9a224d606e7ce825": {
          "model_module": "@jupyter-widgets/controls",
          "model_name": "DescriptionStyleModel",
          "model_module_version": "1.5.0",
          "state": {
            "_model_module": "@jupyter-widgets/controls",
            "_model_module_version": "1.5.0",
            "_model_name": "DescriptionStyleModel",
            "_view_count": null,
            "_view_module": "@jupyter-widgets/base",
            "_view_module_version": "1.2.0",
            "_view_name": "StyleView",
            "description_width": "initial"
          }
        },
        "e99c126702674621ba28217cc8616c14": {
          "model_module": "@jupyter-widgets/controls",
          "model_name": "HTMLModel",
          "model_module_version": "1.5.0",
          "state": {
            "_dom_classes": [
              "custom-text-widget"
            ],
            "_model_module": "@jupyter-widgets/controls",
            "_model_module_version": "1.5.0",
            "_model_name": "HTMLModel",
            "_view_count": null,
            "_view_module": "@jupyter-widgets/controls",
            "_view_module_version": "1.5.0",
            "_view_name": "HTMLView",
            "description": "Favorite Website:",
            "description_tooltip": null,
            "layout": "IPY_MODEL_9fd6bb703e9c4731aa0dc7a48c7121c1",
            "placeholder": "​",
            "style": "IPY_MODEL_c001b805ea27445394f7378c04cf36f0",
            "value": "<a href=\"https://towerrecords.com\" target=\"_blank\">https://towerrecords.com</a>"
          }
        },
        "9fd6bb703e9c4731aa0dc7a48c7121c1": {
          "model_module": "@jupyter-widgets/base",
          "model_name": "LayoutModel",
          "model_module_version": "1.2.0",
          "state": {
            "_model_module": "@jupyter-widgets/base",
            "_model_module_version": "1.2.0",
            "_model_name": "LayoutModel",
            "_view_count": null,
            "_view_module": "@jupyter-widgets/base",
            "_view_module_version": "1.2.0",
            "_view_name": "LayoutView",
            "align_content": null,
            "align_items": null,
            "align_self": null,
            "border": null,
            "bottom": null,
            "display": null,
            "flex": null,
            "flex_flow": null,
            "grid_area": null,
            "grid_auto_columns": null,
            "grid_auto_flow": null,
            "grid_auto_rows": null,
            "grid_column": null,
            "grid_gap": null,
            "grid_row": null,
            "grid_template_areas": null,
            "grid_template_columns": null,
            "grid_template_rows": null,
            "height": null,
            "justify_content": null,
            "justify_items": null,
            "left": null,
            "margin": null,
            "max_height": null,
            "max_width": null,
            "min_height": null,
            "min_width": null,
            "object_fit": null,
            "object_position": null,
            "order": null,
            "overflow": null,
            "overflow_x": null,
            "overflow_y": null,
            "padding": null,
            "right": null,
            "top": null,
            "visibility": null,
            "width": null
          }
        },
        "c001b805ea27445394f7378c04cf36f0": {
          "model_module": "@jupyter-widgets/controls",
          "model_name": "DescriptionStyleModel",
          "model_module_version": "1.5.0",
          "state": {
            "_model_module": "@jupyter-widgets/controls",
            "_model_module_version": "1.5.0",
            "_model_name": "DescriptionStyleModel",
            "_view_count": null,
            "_view_module": "@jupyter-widgets/base",
            "_view_module_version": "1.2.0",
            "_view_name": "StyleView",
            "description_width": "initial"
          }
        },
        "8a950a4a43c44aaaa03e9c23ae6255c7": {
          "model_module": "@jupyter-widgets/controls",
          "model_name": "ButtonModel",
          "model_module_version": "1.5.0",
          "state": {
            "_dom_classes": [],
            "_model_module": "@jupyter-widgets/controls",
            "_model_module_version": "1.5.0",
            "_model_name": "ButtonModel",
            "_view_count": null,
            "_view_module": "@jupyter-widgets/controls",
            "_view_module_version": "1.5.0",
            "_view_name": "ButtonView",
            "button_style": "success",
            "description": "Save Data",
            "disabled": false,
            "icon": "",
            "layout": "IPY_MODEL_1be3a0e691444369b0df0a0b743334cd",
            "style": "IPY_MODEL_84a43f4a00a94e06bb983b3026499f84",
            "tooltip": "Save favorite course of student"
          }
        },
        "1be3a0e691444369b0df0a0b743334cd": {
          "model_module": "@jupyter-widgets/base",
          "model_name": "LayoutModel",
          "model_module_version": "1.2.0",
          "state": {
            "_model_module": "@jupyter-widgets/base",
            "_model_module_version": "1.2.0",
            "_model_name": "LayoutModel",
            "_view_count": null,
            "_view_module": "@jupyter-widgets/base",
            "_view_module_version": "1.2.0",
            "_view_name": "LayoutView",
            "align_content": null,
            "align_items": null,
            "align_self": null,
            "border": null,
            "bottom": null,
            "display": null,
            "flex": null,
            "flex_flow": null,
            "grid_area": null,
            "grid_auto_columns": null,
            "grid_auto_flow": null,
            "grid_auto_rows": null,
            "grid_column": null,
            "grid_gap": null,
            "grid_row": null,
            "grid_template_areas": null,
            "grid_template_columns": null,
            "grid_template_rows": null,
            "height": null,
            "justify_content": null,
            "justify_items": null,
            "left": null,
            "margin": null,
            "max_height": null,
            "max_width": null,
            "min_height": null,
            "min_width": null,
            "object_fit": null,
            "object_position": null,
            "order": null,
            "overflow": null,
            "overflow_x": null,
            "overflow_y": null,
            "padding": null,
            "right": null,
            "top": null,
            "visibility": null,
            "width": null
          }
        },
        "84a43f4a00a94e06bb983b3026499f84": {
          "model_module": "@jupyter-widgets/controls",
          "model_name": "ButtonStyleModel",
          "model_module_version": "1.5.0",
          "state": {
            "_model_module": "@jupyter-widgets/controls",
            "_model_module_version": "1.5.0",
            "_model_name": "ButtonStyleModel",
            "_view_count": null,
            "_view_module": "@jupyter-widgets/base",
            "_view_module_version": "1.2.0",
            "_view_name": "StyleView",
            "button_color": null,
            "font_weight": ""
          }
        },
        "3d64d8f57ce64e38b288a506906d8df1": {
          "model_module": "@jupyter-widgets/controls",
          "model_name": "HTMLModel",
          "model_module_version": "1.5.0",
          "state": {
            "_dom_classes": [],
            "_model_module": "@jupyter-widgets/controls",
            "_model_module_version": "1.5.0",
            "_model_name": "HTMLModel",
            "_view_count": null,
            "_view_module": "@jupyter-widgets/controls",
            "_view_module_version": "1.5.0",
            "_view_name": "HTMLView",
            "description": "",
            "description_tooltip": null,
            "layout": "IPY_MODEL_70e13beae37a4d00953efaf5328affca",
            "placeholder": "​",
            "style": "IPY_MODEL_bc90dcc51a124e5395fec7f353acb966",
            "value": "<style>\n.custom-text-widget {\n    width: 30%;\n    background-color: lightgray;\n    border: 1px solid black;\n    border-radius: 4px;\n    white-space: nowrap;\n    display: flex;\n    align-content: flex-start;\n}\n</style>"
          }
        },
        "70e13beae37a4d00953efaf5328affca": {
          "model_module": "@jupyter-widgets/base",
          "model_name": "LayoutModel",
          "model_module_version": "1.2.0",
          "state": {
            "_model_module": "@jupyter-widgets/base",
            "_model_module_version": "1.2.0",
            "_model_name": "LayoutModel",
            "_view_count": null,
            "_view_module": "@jupyter-widgets/base",
            "_view_module_version": "1.2.0",
            "_view_name": "LayoutView",
            "align_content": null,
            "align_items": null,
            "align_self": null,
            "border": null,
            "bottom": null,
            "display": null,
            "flex": null,
            "flex_flow": null,
            "grid_area": null,
            "grid_auto_columns": null,
            "grid_auto_flow": null,
            "grid_auto_rows": null,
            "grid_column": null,
            "grid_gap": null,
            "grid_row": null,
            "grid_template_areas": null,
            "grid_template_columns": null,
            "grid_template_rows": null,
            "height": null,
            "justify_content": null,
            "justify_items": null,
            "left": null,
            "margin": null,
            "max_height": null,
            "max_width": null,
            "min_height": null,
            "min_width": null,
            "object_fit": null,
            "object_position": null,
            "order": null,
            "overflow": null,
            "overflow_x": null,
            "overflow_y": null,
            "padding": null,
            "right": null,
            "top": null,
            "visibility": null,
            "width": null
          }
        },
        "bc90dcc51a124e5395fec7f353acb966": {
          "model_module": "@jupyter-widgets/controls",
          "model_name": "DescriptionStyleModel",
          "model_module_version": "1.5.0",
          "state": {
            "_model_module": "@jupyter-widgets/controls",
            "_model_module_version": "1.5.0",
            "_model_name": "DescriptionStyleModel",
            "_view_count": null,
            "_view_module": "@jupyter-widgets/base",
            "_view_module_version": "1.2.0",
            "_view_name": "StyleView",
            "description_width": ""
          }
        },
        "789d821090be47dabc4463a80600e549": {
          "model_module": "@jupyter-widgets/controls",
          "model_name": "HTMLModel",
          "model_module_version": "1.5.0",
          "state": {
            "_dom_classes": [],
            "_model_module": "@jupyter-widgets/controls",
            "_model_module_version": "1.5.0",
            "_model_name": "HTMLModel",
            "_view_count": null,
            "_view_module": "@jupyter-widgets/controls",
            "_view_module_version": "1.5.0",
            "_view_name": "HTMLView",
            "description": "",
            "description_tooltip": null,
            "layout": "IPY_MODEL_bdfdef3995ec4d46b78d352830dfff28",
            "placeholder": "​",
            "style": "IPY_MODEL_8c1ab24e7e4d49578c50bc6ceb7c2b2f",
            "value": "<style>\n.css-headline {\n  font-size: 24px;\n}\n</style>"
          }
        },
        "bdfdef3995ec4d46b78d352830dfff28": {
          "model_module": "@jupyter-widgets/base",
          "model_name": "LayoutModel",
          "model_module_version": "1.2.0",
          "state": {
            "_model_module": "@jupyter-widgets/base",
            "_model_module_version": "1.2.0",
            "_model_name": "LayoutModel",
            "_view_count": null,
            "_view_module": "@jupyter-widgets/base",
            "_view_module_version": "1.2.0",
            "_view_name": "LayoutView",
            "align_content": null,
            "align_items": null,
            "align_self": null,
            "border": null,
            "bottom": null,
            "display": null,
            "flex": null,
            "flex_flow": null,
            "grid_area": null,
            "grid_auto_columns": null,
            "grid_auto_flow": null,
            "grid_auto_rows": null,
            "grid_column": null,
            "grid_gap": null,
            "grid_row": null,
            "grid_template_areas": null,
            "grid_template_columns": null,
            "grid_template_rows": null,
            "height": null,
            "justify_content": null,
            "justify_items": null,
            "left": null,
            "margin": null,
            "max_height": null,
            "max_width": null,
            "min_height": null,
            "min_width": null,
            "object_fit": null,
            "object_position": null,
            "order": null,
            "overflow": null,
            "overflow_x": null,
            "overflow_y": null,
            "padding": null,
            "right": null,
            "top": null,
            "visibility": null,
            "width": null
          }
        },
        "8c1ab24e7e4d49578c50bc6ceb7c2b2f": {
          "model_module": "@jupyter-widgets/controls",
          "model_name": "DescriptionStyleModel",
          "model_module_version": "1.5.0",
          "state": {
            "_model_module": "@jupyter-widgets/controls",
            "_model_module_version": "1.5.0",
            "_model_name": "DescriptionStyleModel",
            "_view_count": null,
            "_view_module": "@jupyter-widgets/base",
            "_view_module_version": "1.2.0",
            "_view_name": "StyleView",
            "description_width": ""
          }
        }
      }
    }
  },
  "cells": [
    {
      "cell_type": "markdown",
      "metadata": {
        "id": "view-in-github",
        "colab_type": "text"
      },
      "source": [
        "<a href=\"https://colab.research.google.com/github/cohensh96/CloudComputing/blob/main/tirgul3final.ipynb\" target=\"_parent\"><img src=\"https://colab.research.google.com/assets/colab-badge.svg\" alt=\"Open In Colab\"/></a>"
      ]
    },
    {
      "cell_type": "code",
      "execution_count": 1,
      "metadata": {
        "colab": {
          "base_uri": "https://localhost:8080/",
          "height": 316,
          "referenced_widgets": [
            "4c7a227002fe437cab988fba7f2e10a6",
            "5700f0050eb3496782a4b628b5d274d7",
            "74b6087141724877a62c667b5df8ecab",
            "da06eaaf0a394f8bbb2bc739549fbcc1",
            "ee4e75a125e74861ba25da9d97ce2349",
            "3e28cc1ac917420b9cdce31f4bd42004",
            "ed9de300e7624a22856533e9a4c0b084",
            "d1da069badfa437c9b8f8ffa346a1390",
            "488c5b9ba6ab4b93ad272cc016166bc5",
            "dc92e9fd628d4399a6de6e580e381c08",
            "6cdb591df7d14668baeb33b519c5e619",
            "5190bafb10c54060893296cae23cf6dd",
            "8422ae89c02f407b9a9ce1369d73a3a1",
            "87db89ac17914dbda5a00f6413cc42d9",
            "28ff698708a64e8d9a224d606e7ce825",
            "e99c126702674621ba28217cc8616c14",
            "9fd6bb703e9c4731aa0dc7a48c7121c1",
            "c001b805ea27445394f7378c04cf36f0",
            "8a950a4a43c44aaaa03e9c23ae6255c7",
            "1be3a0e691444369b0df0a0b743334cd",
            "84a43f4a00a94e06bb983b3026499f84",
            "3d64d8f57ce64e38b288a506906d8df1",
            "70e13beae37a4d00953efaf5328affca",
            "bc90dcc51a124e5395fec7f353acb966",
            "789d821090be47dabc4463a80600e549",
            "bdfdef3995ec4d46b78d352830dfff28",
            "8c1ab24e7e4d49578c50bc6ceb7c2b2f"
          ]
        },
        "id": "D1IMKgGZeh97",
        "outputId": "4616becf-78bf-47e9-a1cd-7f44f79ae28e"
      },
      "outputs": [
        {
          "output_type": "stream",
          "name": "stdout",
          "text": [
            "Mounted at /content/drive\n"
          ]
        },
        {
          "output_type": "display_data",
          "data": {
            "text/plain": [
              "HTML(value='<h2>Select a Student:</h2>', _dom_classes=('css-headline',))"
            ],
            "application/vnd.jupyter.widget-view+json": {
              "version_major": 2,
              "version_minor": 0,
              "model_id": "4c7a227002fe437cab988fba7f2e10a6"
            }
          },
          "metadata": {}
        },
        {
          "output_type": "display_data",
          "data": {
            "text/plain": [
              "Dropdown(_dom_classes=('custom-text-widget',), description='First Name:', layout=Layout(width='max-content'), …"
            ],
            "application/vnd.jupyter.widget-view+json": {
              "version_major": 2,
              "version_minor": 0,
              "model_id": "da06eaaf0a394f8bbb2bc739549fbcc1"
            }
          },
          "metadata": {}
        },
        {
          "output_type": "display_data",
          "data": {
            "text/plain": [
              "Text(value='', description='Last Name:', disabled=True, placeholder='Last name', style=DescriptionStyle(descri…"
            ],
            "application/vnd.jupyter.widget-view+json": {
              "version_major": 2,
              "version_minor": 0,
              "model_id": "ed9de300e7624a22856533e9a4c0b084"
            }
          },
          "metadata": {}
        },
        {
          "output_type": "display_data",
          "data": {
            "text/plain": [
              "Text(value='', description='Email:', disabled=True, layout=Layout(width='350px'), placeholder='Email', style=D…"
            ],
            "application/vnd.jupyter.widget-view+json": {
              "version_major": 2,
              "version_minor": 0,
              "model_id": "dc92e9fd628d4399a6de6e580e381c08"
            }
          },
          "metadata": {}
        },
        {
          "output_type": "display_data",
          "data": {
            "text/plain": [
              "Combobox(value='', description='Course:', ensure_option=True, placeholder='Choose your favorite course', style…"
            ],
            "application/vnd.jupyter.widget-view+json": {
              "version_major": 2,
              "version_minor": 0,
              "model_id": "8422ae89c02f407b9a9ce1369d73a3a1"
            }
          },
          "metadata": {}
        },
        {
          "output_type": "display_data",
          "data": {
            "text/plain": [
              "HTML(value='', description='Favorite Website:', style=DescriptionStyle(description_width='initial'), _dom_clas…"
            ],
            "application/vnd.jupyter.widget-view+json": {
              "version_major": 2,
              "version_minor": 0,
              "model_id": "e99c126702674621ba28217cc8616c14"
            }
          },
          "metadata": {}
        },
        {
          "output_type": "display_data",
          "data": {
            "text/plain": [
              "Button(button_style='success', description='Save Data', disabled=True, style=ButtonStyle(), tooltip='Save favo…"
            ],
            "application/vnd.jupyter.widget-view+json": {
              "version_major": 2,
              "version_minor": 0,
              "model_id": "8a950a4a43c44aaaa03e9c23ae6255c7"
            }
          },
          "metadata": {}
        },
        {
          "output_type": "display_data",
          "data": {
            "text/plain": [
              "HTML(value='<style>\\n.custom-text-widget {\\n    width: 30%;\\n    background-color: lightgray;\\n    border: 1px…"
            ],
            "application/vnd.jupyter.widget-view+json": {
              "version_major": 2,
              "version_minor": 0,
              "model_id": "3d64d8f57ce64e38b288a506906d8df1"
            }
          },
          "metadata": {}
        },
        {
          "output_type": "display_data",
          "data": {
            "text/plain": [
              "HTML(value='<style>\\n.css-headline {\\n  font-size: 24px;\\n}\\n</style>')"
            ],
            "application/vnd.jupyter.widget-view+json": {
              "version_major": 2,
              "version_minor": 0,
              "model_id": "789d821090be47dabc4463a80600e549"
            }
          },
          "metadata": {}
        },
        {
          "output_type": "stream",
          "name": "stdout",
          "text": [
            "The file updated successfully!\n"
          ]
        }
      ],
      "source": [
        "from ssl import Options\n",
        "import json\n",
        "import ipywidgets as widgets\n",
        "from IPython.display import display\n",
        "import webbrowser\n",
        "\n",
        "from google.colab import drive \n",
        "drive.mount('/content/drive')\n",
        "\n",
        " #Put your google drive path here.\n",
        "with open('/content/drive/My Drive/Shir tirgul/students.json','r') as f:\n",
        "  file_content = f.read()\n",
        "\n",
        "students_dict = json.loads(file_content)\n",
        "students_arr = []\n",
        "\n",
        "for obj in students_dict:\n",
        "  students_arr.append([obj[\"first_name\"], obj[\"last_name\"],obj[\"email\"], obj[\"courses\"], obj[\"URL\"]])\n",
        "\n",
        "student_Name = widgets.Dropdown(\n",
        "    options = [None, students_arr[0][0], students_arr[1][0], students_arr[2][0], students_arr[3][0], students_arr[4][0]],\n",
        "    layout = {'width': 'max-content'},\n",
        "    value = None,\n",
        "    description = 'First Name:',\n",
        ")\n",
        "\n",
        "last_Name = widgets.Text(\n",
        "    value = '',\n",
        "    placeholder = 'Last name',\n",
        "    description = 'Last Name:',\n",
        "    disabled = True,\n",
        ")\n",
        "\n",
        "email = widgets.Text(\n",
        "    value = '',\n",
        "    placeholder = 'Email',\n",
        "    description = 'Email:',\n",
        "    layout = {'width': '350px'},\n",
        "    disabled = True,\n",
        ")\n",
        "\n",
        "course = widgets.Combobox(\n",
        "    placeholder = 'Choose your favorite course',\n",
        "    description = 'Course:',\n",
        "    ensure_option = True,\n",
        "    disabled = False,\n",
        ")\n",
        "\n",
        "URL = widgets.HTML(\n",
        "    value = '',\n",
        "    description = 'Favorite Website:',\n",
        ")\n",
        "\n",
        "txtName = widgets.HTML(\n",
        "    value = '<h2>Select a Student:</h2>',\n",
        ")\n",
        "\n",
        "button = widgets.Button(\n",
        "    description = 'Save Data',\n",
        "    disabled = True,\n",
        "    button_style = 'success',\n",
        "    tooltip = 'Save favorite course of student',\n",
        ")\n",
        "\n",
        "student_Name.style.description_width = 'initial'\n",
        "last_Name.style.description_width = 'initial'\n",
        "email.style.description_width = 'initial'\n",
        "course.style.description_width = 'initial'\n",
        "URL.style.description_width = 'initial'\n",
        "\n",
        "\n",
        "# This method returns all the available courses.\n",
        "def create_courses_arr(arr):\n",
        "  courses_options = arr[3]\n",
        "  return courses_options\n",
        "\n",
        "def on_change(change):\n",
        "    if change['type'] == 'change' and change['name'] == 'value':\n",
        "        for obj in students_arr:\n",
        "          if change['new'] == obj[0]:\n",
        "            last_Name.value = obj[1]\n",
        "            email.value = obj[2]\n",
        "            course.options = create_courses_arr(obj)\n",
        "            URL.value = '<a href=\"' + obj[4] + '\" target=\"_blank\">' + obj[4] + '</a>'\n",
        "\n",
        "        course.placeholder = 'Please choose your favorite course'\n",
        "        course.value = ''\n",
        "        button.disabled = True\n",
        "     \n",
        "# When student selected favorite course from the dropdown.\n",
        "def on_course_change(change):\n",
        "  if change['type'] == 'change' and change['name'] == 'value':\n",
        "    button.disabled = False\n",
        "\n",
        "# When the student pressed on Save Data button adding the new data to the JSON file.\n",
        "def on_save_click(b):\n",
        "    for obj in students_dict:\n",
        "      if obj[\"first_name\"] == student_Name.value:\n",
        "        newData = {\"favorite_course\": course.value}\n",
        "        obj.update(newData)\n",
        "    print(\"The file updated successfully!\")\n",
        "    json_object = json.dumps(students_dict, indent = 4)\n",
        " \n",
        "    # Writing to the JSON file.\n",
        "    #Put your google drive path here.\n",
        "    with open('/content/drive/My Drive/Shir tirgul/students.json', \"w\") as updatedfile:\n",
        "        updatedfile.write(json_object)\n",
        "    webbrowser.open_new(students_arr[student_Name.index - 1][4])\n",
        "\n",
        "css = \"\"\"\n",
        ".custom-text-widget {\n",
        "    width: 30%;\n",
        "    background-color: lightgray;\n",
        "    border: 1px solid black;\n",
        "    border-radius: 4px;\n",
        "    white-space: nowrap;\n",
        "    display: flex;\n",
        "    align-content: flex-start;\n",
        "}\n",
        "\"\"\"\n",
        "css_headline = \"\"\"\n",
        ".css-headline {\n",
        "  font-size: 24px;\n",
        "}\n",
        "\"\"\"\n",
        "\n",
        "\n",
        "txtName.add_class('css-headline')\n",
        "student_Name.add_class('custom-text-widget')\n",
        "last_Name.add_class('custom-text-widget')\n",
        "email.add_class('custom-text-widget')\n",
        "course.add_class('custom-text-widget')\n",
        "URL.add_class('custom-text-widget')\n",
        "\n",
        "student_Name.observe(on_change)\n",
        "course.observe(on_course_change)\n",
        "display(txtName, student_Name, last_Name, email, course, URL, button)\n",
        "button.on_click(on_save_click)\n",
        "display(widgets.HTML('<style>{}</style>'.format(css)),widgets.HTML('<style>{}</style>'.format(css_headline)))\n"
      ]
    }
  ]
}